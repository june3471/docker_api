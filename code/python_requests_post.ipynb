{
 "cells": [
  {
   "cell_type": "markdown",
   "metadata": {},
   "source": [
    "### 파이썬으로 docker flask에 request하여 결과 받아오기"
   ]
  },
  {
   "cell_type": "code",
   "execution_count": 1,
   "metadata": {},
   "outputs": [],
   "source": [
    "import requests\n",
    "from bs4 import BeautifulSoup "
   ]
  },
  {
   "cell_type": "code",
   "execution_count": 3,
   "metadata": {},
   "outputs": [
    {
     "data": {
      "text/plain": [
       "[\n",
       "  [\n",
       "    \"n02110063\", \n",
       "    \"malamute\", \n",
       "    0.961063385\n",
       "  ], \n",
       "  [\n",
       "    \"n02109961\", \n",
       "    \"Eskimo_dog\", \n",
       "    0.0244092885\n",
       "  ], \n",
       "  [\n",
       "    \"n02114367\", \n",
       "    \"timber_wolf\", \n",
       "    0.00806175917\n",
       "  ], \n",
       "  [\n",
       "    \"n02110185\", \n",
       "    \"Siberian_husky\", \n",
       "    0.00636785896\n",
       "  ], \n",
       "  [\n",
       "    \"n03218198\", \n",
       "    \"dogsled\", \n",
       "    3.61523344e-05\n",
       "  ]\n",
       "]"
      ]
     },
     "execution_count": 3,
     "metadata": {},
     "output_type": "execute_result"
    }
   ],
   "source": [
    "files = {'file': open('../data/dog1-4.jpg', 'rb')}\n",
    "result = requests.post( 'http://203.228.77.3:5000/inception/predict/',files=files)\n",
    "BeautifulSoup(result.text,'html.parser')"
   ]
  },
  {
   "cell_type": "code",
   "execution_count": 4,
   "metadata": {},
   "outputs": [
    {
     "data": {
      "text/plain": [
       "{\n",
       "  \"box\": [\n",
       "    [\n",
       "      0.0701825917, \n",
       "      0.0346837938, \n",
       "      0.966366172, \n",
       "      0.966455698\n",
       "    ], \n",
       "    [\n",
       "      0.018686384, \n",
       "      0.341945469, \n",
       "      0.173337519, \n",
       "      0.626952708\n",
       "    ]\n",
       "  ], \n",
       "  \"object\": [\n",
       "    \"person\", \n",
       "    \"chair\"\n",
       "  ], \n",
       "  \"score\": [\n",
       "    0.999744713, \n",
       "    0.924086869\n",
       "  ]\n",
       "}"
      ]
     },
     "execution_count": 4,
     "metadata": {},
     "output_type": "execute_result"
    }
   ],
   "source": [
    "files = {'instances': open('../data/girl.png', 'rb'),'class': open('../data/coco.names', 'rb')}\n",
    "header = {\"size\":\"416\",\"thresh\":\"0.5\"}\n",
    "result=requests.post( 'http://203.228.77.3:5000/yolov3/predict/',files=files,headers=header)\n",
    "BeautifulSoup(result.text,'html.parser')"
   ]
  },
  {
   "cell_type": "code",
   "execution_count": null,
   "metadata": {},
   "outputs": [],
   "source": []
  }
 ],
 "metadata": {
  "kernelspec": {
   "display_name": "Python 3",
   "language": "python",
   "name": "python3"
  },
  "language_info": {
   "codemirror_mode": {
    "name": "ipython",
    "version": 3
   },
   "file_extension": ".py",
   "mimetype": "text/x-python",
   "name": "python",
   "nbconvert_exporter": "python",
   "pygments_lexer": "ipython3",
   "version": "3.7.1"
  }
 },
 "nbformat": 4,
 "nbformat_minor": 4
}
